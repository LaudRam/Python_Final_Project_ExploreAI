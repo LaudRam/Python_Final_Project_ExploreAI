{
 "cells": [
  {
   "cell_type": "markdown",
   "id": "dda26281-672c-4f8c-bf4b-e9929f63426c",
   "metadata": {},
   "source": [
    "# Table of Contents\n",
    "- <b> [1. Project Overview](#chapter1)\n",
    "    - [1.1. Introduction](#section_1_1)\n",
    "    - [1.2. Objective](#section_1_2)\n",
    "- <b> [2. Importing Packages](#chapter2)\n",
    "- <b> [3. Data Loading](#chapter3)\n",
    "- <b> [4. Data Cleaning](#chapter4)\n",
    "- <b> [5. Exploratory Data Analysis (EDA)](#chapter5)\n",
    "- <b> [6. Conclusion and Insights](#chapter6)</b>"
   ]
  },
  {
   "cell_type": "markdown",
   "id": "3f6b1f49-c38e-4560-be3a-6e3abea5273d",
   "metadata": {},
   "source": [
    "# 1. Project Overview <a class=\"anchor\" id=\"chapter1\"></a>"
   ]
  },
  {
   "cell_type": "markdown",
   "id": "16d900c7-1a07-4b64-a30d-a95f4cc54e2a",
   "metadata": {},
   "source": [
    "## 1.1. Introduction<a class=\"anchor\" id=\"section_1_1\"></a>"
   ]
  },
  {
   "cell_type": "code",
   "execution_count": null,
   "id": "3c83c437-783a-4d71-98e7-723438aacb42",
   "metadata": {},
   "outputs": [],
   "source": []
  },
  {
   "cell_type": "markdown",
   "id": "2696fdf2-ef64-4375-a3a8-cfa7477da75f",
   "metadata": {},
   "source": [
    "## 1.2. Objective<a class=\"anchor\" id=\"section_1_2\"></a>"
   ]
  },
  {
   "cell_type": "code",
   "execution_count": null,
   "id": "e3b78893-f95f-4bc4-b2f6-a5dd366a9154",
   "metadata": {},
   "outputs": [],
   "source": []
  },
  {
   "cell_type": "markdown",
   "id": "daebff2e-2776-4e5f-a8b9-45d8a9450578",
   "metadata": {},
   "source": [
    "# 2. Importing Packages<a class=\"anchor\" id=\"chapter2\"></a>"
   ]
  },
  {
   "cell_type": "code",
   "execution_count": null,
   "id": "f58ed033-ec54-4e2f-aab2-7e0eb29a93fa",
   "metadata": {},
   "outputs": [],
   "source": []
  },
  {
   "cell_type": "markdown",
   "id": "46c5bcee-5cc1-40a0-b371-4e25b112d12d",
   "metadata": {},
   "source": [
    "# 3. Data Loading<a class=\"anchor\" id=\"chapter3\"></a>"
   ]
  },
  {
   "cell_type": "code",
   "execution_count": null,
   "id": "2c6b3640-d353-4d7b-b183-02a0d8552005",
   "metadata": {},
   "outputs": [],
   "source": []
  },
  {
   "cell_type": "markdown",
   "id": "582cdf56-ee9c-4aa2-9916-870bd9cb9d59",
   "metadata": {},
   "source": [
    "# 4. Data Cleaning<a class=\"anchor\" id=\"chapter4\"></a>"
   ]
  },
  {
   "cell_type": "code",
   "execution_count": null,
   "id": "90f73f10-8d63-4f38-b52b-7a86e30647c7",
   "metadata": {},
   "outputs": [],
   "source": []
  },
  {
   "cell_type": "markdown",
   "id": "a9054035-da51-4c4b-8626-3107d9aae33a",
   "metadata": {},
   "source": [
    "# 5. Exploratory Data Analysis (EDA)<a class=\"anchor\" id=\"chapter5\"></a>"
   ]
  },
  {
   "cell_type": "code",
   "execution_count": null,
   "id": "99962f5c-9a40-435e-b992-67b115609439",
   "metadata": {},
   "outputs": [],
   "source": []
  },
  {
   "cell_type": "markdown",
   "id": "c9df3d05-52a0-4a29-83e5-4ed4607ab9e5",
   "metadata": {},
   "source": [
    "# 6. Conclusion and Insights <a class=\"anchor\" id=\"chapter6\"></a>"
   ]
  },
  {
   "cell_type": "code",
   "execution_count": null,
   "id": "d901d9e1-6b14-4ae0-b9d8-e6cbfeab2b28",
   "metadata": {},
   "outputs": [],
   "source": []
  }
 ],
 "metadata": {
  "kernelspec": {
   "display_name": "Python 3 (ipykernel)",
   "language": "python",
   "name": "python3"
  },
  "language_info": {
   "codemirror_mode": {
    "name": "ipython",
    "version": 3
   },
   "file_extension": ".py",
   "mimetype": "text/x-python",
   "name": "python",
   "nbconvert_exporter": "python",
   "pygments_lexer": "ipython3",
   "version": "3.12.7"
  }
 },
 "nbformat": 4,
 "nbformat_minor": 5
}
